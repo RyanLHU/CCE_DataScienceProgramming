{
 "cells": [
  {
   "cell_type": "markdown",
   "metadata": {
    "slideshow": {
     "slide_type": "slide"
    }
   },
   "source": [
    "# Slide06a NumPy - Examples\n",
    "- Prof. Ryan Leong Hou U\n",
    "\n",
    "http://www.cs.utsa.edu/~jruan/teaching/cs5163f17/"
   ]
  },
  {
   "cell_type": "markdown",
   "metadata": {
    "slideshow": {
     "slide_type": "slide"
    }
   },
   "source": [
    "# NumPy Array Challenge 1\n",
    "- Create a 3 x 4 array filled with all zeros, and a 6 x 4 array filled with all 1s.\n",
    "- Concatenate both arrays vertically into a 9 x 4 array, with the all zeros array on top.\n",
    "-  the entire first column of the combined array to first_column.\n",
    "- Print out first_column."
   ]
  },
  {
   "cell_type": "code",
   "execution_count": 2,
   "metadata": {
    "slideshow": {
     "slide_type": "fragment"
    }
   },
   "outputs": [
    {
     "name": "stdout",
     "output_type": "stream",
     "text": [
      "[0. 0. 0. 1. 1. 1. 1. 1. 1.]\n"
     ]
    }
   ],
   "source": [
    "import numpy as np\n",
    "import pandas as pd\n",
    "\n",
    "a=np.zeros([3,4])\n",
    "b=np.ones([6,4])\n",
    "c=np.vstack([a,b])\n",
    "first_column=c[:,0]\n",
    "print(first_column)"
   ]
  },
  {
   "cell_type": "markdown",
   "metadata": {
    "slideshow": {
     "slide_type": "slide"
    }
   },
   "source": [
    "# NumPy Array Challenge 2\n",
    "- In the following practical example, we come to talk about the sweet things of life. \n",
    "- Let's assume there are four people, and we call them Lucas, Mia, Leon and Hannah. \n",
    "- Each of them has bought chocolates out of a choice of three. The brand are A, B and C, not very marketable, we have to admit. \n",
    "  - Lucas bought 100 g of brand A, 175 g of brand B and 210 of C. \n",
    "  - Mia choose 90 g of A, 160 g of B and 150 g of C. \n",
    "  - Leon bought 200 g of A, 50 of B and 100 g of C. \n",
    "- Hannah apparently didn't like brand B, because she hadn't bought any of those. But she she seems to be a real fan of brand C, because she bought 310 g of them. Furthermore she bought 120 g of A."
   ]
  },
  {
   "cell_type": "markdown",
   "metadata": {
    "slideshow": {
     "slide_type": "subslide"
    }
   },
   "source": [
    "# NumPy Array Challenge 2\n",
    "- So, what's the price in Euro of these chocolates: A costs 2.98 per 100 g, B costs 3.90 and C only 1.99 Euro. \n",
    "- If we have to calculate how much each of them had to pay, we can use Python, NumPy and Matrix multiplication: "
   ]
  },
  {
   "cell_type": "code",
   "execution_count": 5,
   "metadata": {
    "slideshow": {
     "slide_type": "fragment"
    }
   },
   "outputs": [
    {
     "name": "stdout",
     "output_type": "stream",
     "text": [
      "[13.984 11.907  9.9    9.745]\n"
     ]
    }
   ],
   "source": [
    "NumPersons = np.array([[100,175,210],[90,160,150],[200,50,100],[120,0,310]])\n",
    "Price_per_100_g = np.array([2.98,3.90,1.99])\n",
    "Price_in_Cent = np.dot(NumPersons,Price_per_100_g)\n",
    "Price_in_Euro = Price_in_Cent / np.array([100,100,100,100])\n",
    "print(Price_in_Euro)"
   ]
  },
  {
   "cell_type": "markdown",
   "metadata": {
    "slideshow": {
     "slide_type": "slide"
    }
   },
   "source": [
    "# NumPy Array Challenge 3\n",
    "- Consider a 1-dimensional vector of True and False for which you want to count the number of “False to True” transitions in the sequence:\n",
    "- E.g., \n",
    "  - [ True False  True False  True False  True False False  True]\n",
    "  - The number of ”Flase to True” transitions is 4."
   ]
  },
  {
   "cell_type": "code",
   "execution_count": 33,
   "metadata": {
    "slideshow": {
     "slide_type": "fragment"
    }
   },
   "outputs": [
    {
     "name": "stdout",
     "output_type": "stream",
     "text": [
      "[ True False  True False  True False  True False False  True]\n",
      "4\n"
     ]
    }
   ],
   "source": [
    "def count_transitions(x) -> int:\n",
    "    count = 0\n",
    "    for i, j in zip(x[:-1], x[1:]):\n",
    "        if j and not i:\n",
    "            count += 1\n",
    "    return count\n",
    "\n",
    "\n",
    "np.random.seed(444)\n",
    "x = np.random.choice([False, True], size=10)\n",
    "print(x)\n",
    "print(count_transitions(x))"
   ]
  },
  {
   "cell_type": "markdown",
   "metadata": {
    "slideshow": {
     "slide_type": "slide"
    }
   },
   "source": [
    "# NumPy Array Challenge 3"
   ]
  },
  {
   "cell_type": "code",
   "execution_count": 25,
   "metadata": {},
   "outputs": [
    {
     "data": {
      "text/plain": [
       "4"
      ]
     },
     "execution_count": 25,
     "metadata": {},
     "output_type": "execute_result"
    }
   ],
   "source": [
    "# Numpy solution\n",
    "np.count_nonzero(x[:-1] < x[1:])"
   ]
  },
  {
   "cell_type": "markdown",
   "metadata": {
    "slideshow": {
     "slide_type": "slide"
    }
   },
   "source": [
    "# Using timeit"
   ]
  },
  {
   "cell_type": "code",
   "execution_count": 38,
   "metadata": {
    "slideshow": {
     "slide_type": "-"
    }
   },
   "outputs": [
    {
     "name": "stdout",
     "output_type": "stream",
     "text": [
      "1.6247945620000337\n"
     ]
    }
   ],
   "source": [
    "import timeit\n",
    "def count_transitions(x) -> int:\n",
    "    count = 0\n",
    "    for i, j in zip(x[:-1], x[1:]):\n",
    "        if j and not i:\n",
    "            count += 1\n",
    "    return count\n",
    "\n",
    "def wrapper(func, *args, **kwargs):\n",
    "    def wrapped():\n",
    "        return func(*args, **kwargs)\n",
    "    return wrapped\n",
    "\n",
    "np.random.seed(444)\n",
    "x = np.random.choice([False, True], size=10)\n",
    "wrapped = wrapper(count_transitions, x)\n",
    "print(timeit.timeit(wrapped))"
   ]
  },
  {
   "cell_type": "code",
   "execution_count": 37,
   "metadata": {},
   "outputs": [
    {
     "name": "stdout",
     "output_type": "stream",
     "text": [
      "0.5807434949999788\n"
     ]
    }
   ],
   "source": [
    "wrapped = wrapper(np.count_nonzero, x[:-1] < x[1:])\n",
    "print(timeit.timeit(wrapped))"
   ]
  },
  {
   "cell_type": "markdown",
   "metadata": {
    "slideshow": {
     "slide_type": "slide"
    }
   },
   "source": [
    "# NumPy Array Challenge 4\n",
    "- Given a stock’s price history as a sequence, and assuming that you are only allowed to make one purchase and one sale, what is the maximum profit that can be obtained? For example, given prices = (20, 18, 14, 17, 20, 21, 15), the max profit would be 7, from buying at 14 and selling at 21."
   ]
  }
 ],
 "metadata": {
  "celltoolbar": "Slideshow",
  "kernelspec": {
   "display_name": "Python 3",
   "language": "python",
   "name": "python3"
  },
  "language_info": {
   "codemirror_mode": {
    "name": "ipython",
    "version": 3
   },
   "file_extension": ".py",
   "mimetype": "text/x-python",
   "name": "python",
   "nbconvert_exporter": "python",
   "pygments_lexer": "ipython3",
   "version": "3.8.8"
  }
 },
 "nbformat": 4,
 "nbformat_minor": 2
}
